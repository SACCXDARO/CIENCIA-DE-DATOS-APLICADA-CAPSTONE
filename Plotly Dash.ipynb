{
  "metadata": {
    "kernelspec": {
      "name": "",
      "display_name": ""
    },
    "language_info": {
      "name": ""
    }
  },
  "nbformat_minor": 4,
  "nbformat": 4,
  "cells": [
    {
      "cell_type": "markdown",
      "source": "## Laboratorio práctico: Construir un panel interactivo con Plotly Dash\nEn este laboratorio, construirás una aplicación de Plotly Dash para que los usuarios realicen análisis visuales interactivos sobre los datos de lanzamientos de SpaceX en tiempo real.\n\nEsta aplicación de panel contiene componentes de entrada como una lista desplegable y un control deslizante de rango para interactuar con un gráfico circular y un gráfico de dispersión. Serás guiado para construir esta aplicación de panel a través de las siguientes tareas:\n\n- TAREA 1: Agregar un componente de entrada desplegable de sitio de lanzamiento\n- TAREA 2: Agregar una función de callback para renderizar success-pie-chart basado en el sitio seleccionado en la lista desplegable\n- TAREA 3: Agregar un control deslizante de rango para seleccionar la carga útil\n- TAREA 4: Agregar una función de callback para renderizar el gráfico de dispersión success-payload-scatter-chart",
      "metadata": {}
    },
    {
      "cell_type": "code",
      "source": "import pandas as pd\nimport dash\nfrom dash import html, dcc\nfrom dash.dependencies import Input, Output\nimport plotly.express as px\n\n# Carga del dataset\nspacex_df = pd.read_csv(\"spacex_launch_dash.csv\")\nmax_payload = spacex_df['Payload Mass (kg)'].max()\nmin_payload = spacex_df['Payload Mass (kg)'].min()\n\n# Crear la aplicación Dash\napp = dash.Dash(__name__)\n\n# Layout de la app con los componentes pedidos\napp.layout = html.Div(children=[\n    html.H1('SpaceX Launch Records Dashboard',\n            style={'textAlign': 'center', 'color': '#503D36', 'font-size': 40}),\n    \n    # TAREA 1: Dropdown para seleccionar sitio de lanzamiento\n    dcc.Dropdown(\n        id='site-dropdown',\n        options=[\n            {'label': 'All Sites', 'value': 'ALL'},\n            {'label': 'CCAFS LC-40', 'value': 'CCAFS LC-40'},\n            {'label': 'VAFB SLC-4E', 'value': 'VAFB SLC-4E'},\n            {'label': 'KSC LC-39A', 'value': 'KSC LC-39A'},\n            {'label': 'CCAFS SLC-40', 'value': 'CCAFS SLC-40'},\n        ],\n        value='ALL',  # Valor por defecto para seleccionar todos los sitios\n        placeholder=\"Select a Launch Site here\",\n        searchable=True\n    ),\n    html.Br(),\n\n    # TAREA 2: Gráfico circular (pie chart) para mostrar éxitos\n    html.Div(dcc.Graph(id='success-pie-chart')),\n    html.Br(),\n\n    html.P(\"Payload range (Kg):\"),\n\n    # TAREA 3: Slider para seleccionar rango de carga útil\n    dcc.RangeSlider(\n        id='payload-slider',\n        min=0,\n        max=10000,\n        step=1000,\n        marks={0: '0', 2500: '2500', 5000: '5000', 7500: '7500', 10000: '10000'},\n        value=[min_payload, max_payload]  # Rango por defecto con todos los valores\n    ),\n\n    # TAREA 4: Gráfico de dispersión para carga útil vs éxito\n    html.Div(dcc.Graph(id='success-payload-scatter-chart')),\n])\n\n# Callback para actualizar el gráfico de pastel (pie chart)\n@app.callback(\n    Output(component_id='success-pie-chart', component_property='figure'),\n    Input(component_id='site-dropdown', component_property='value')\n)\ndef update_pie_chart(selected_site):\n    if selected_site == 'ALL':\n        # Total de lanzamientos exitosos por sitio para todos los sitios\n        filtered_df = spacex_df[spacex_df['class'] == 1]\n        fig = px.pie(filtered_df,\n                     names='Launch Site',\n                     title='Total Successful Launches by Site')\n    else:\n        # Para un sitio específico, mostrar éxitos y fallos\n        filtered_df = spacex_df[spacex_df['Launch Site'] == selected_site]\n        counts = filtered_df['class'].value_counts().reset_index()\n        counts.columns = ['class', 'count']\n        counts['class'] = counts['class'].replace({1: 'Success', 0: 'Failure'})\n        fig = px.pie(counts,\n                     names='class',\n                     values='count',\n                     title=f'Success vs Failure Launches for site {selected_site}')\n    return fig\n\n# Callback para actualizar el gráfico de dispersión (scatter chart)\n@app.callback(\n    Output(component_id='success-payload-scatter-chart', component_property='figure'),\n    [\n        Input(component_id='site-dropdown', component_property='value'),\n        Input(component_id='payload-slider', component_property='value')\n    ]\n)\ndef update_scatter_chart(selected_site, payload_range):\n    low, high = payload_range\n    # Filtrar por rango de carga útil\n    filtered_df = spacex_df[(spacex_df['Payload Mass (kg)'] >= low) &\n                            (spacex_df['Payload Mass (kg)'] <= high)]\n    if selected_site != 'ALL':\n        # Filtrar por sitio de lanzamiento\n        filtered_df = filtered_df[filtered_df['Launch Site'] == selected_site]\n\n    fig = px.scatter(\n        filtered_df,\n        x='Payload Mass (kg)',\n        y='class',\n        color='Booster Version Category',\n        title='Correlation between Payload and Success for Launch Site(s)',\n        labels={'class': 'Launch Outcome (0=Failure, 1=Success)'},\n        hover_data=['Launch Site']\n    )\n    return fig\n\n# Ejecutar la app\nif __name__ == '__main__':\n    app.run(debug=True)\n",
      "metadata": {
        "trusted": true
      },
      "outputs": [],
      "execution_count": null
    },
    {
      "cell_type": "raw",
      "source": "",
      "metadata": {}
    },
    {
      "cell_type": "markdown",
      "source": "",
      "metadata": {}
    },
    {
      "cell_type": "code",
      "source": "",
      "metadata": {
        "trusted": true
      },
      "outputs": [],
      "execution_count": null
    },
    {
      "cell_type": "code",
      "source": "",
      "metadata": {
        "trusted": true
      },
      "outputs": [],
      "execution_count": null
    }
  ]
}